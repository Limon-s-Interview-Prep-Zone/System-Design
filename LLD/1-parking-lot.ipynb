{
 "cells": [
  {
   "cell_type": "markdown",
   "metadata": {},
   "source": [
    "#### Design a reservation and payment system for a parking Garage system"
   ]
  },
  {
   "cell_type": "markdown",
   "metadata": {},
   "source": [
    "##### Product Requirements:\n",
    "1. Need to reserve a parking spot and receive some kind of tiket or receipt.\n",
    "2. Need to be able to pay for a paking spot.\n",
    "3. Systems need to have a high consistency(no two people should be able to reserve the same spot at the same time).\n",
    "4. The parking lot should have multiple entrances and exists.\n",
    "5. A display board should show the available parking spots\n",
    "6. 3 types of vehicles- mini, compact, and large that allow parking for motorbikes, cars, and trucks, respectively.\n",
    "7. Parking lot should have multiple floors\n",
    "8. Strategeist: nearest first or farthest fisrts\n",
    "9. Support multiple payment systems. price: flat rate or hourly rate"
   ]
  },
  {
   "cell_type": "markdown",
   "metadata": {},
   "source": [
    "##### Low Level Design\n",
    "Parking Lot : Entrance, Exists, Global Display board"
   ]
  },
  {
   "cell_type": "markdown",
   "metadata": {},
   "source": [
    "#####\n",
    "```algorithom\n",
    "    <!-- ParkingSpotService -->\n",
    "    Mini CreateMiniParkingService(int floorNumber);\n",
    "    Compact CreateCompactParkingService(int floorNumber);\n",
    "    Large CreateLargeParkingService(int floorNumber);\n",
    "    // \n",
    "    ParkingSpot CreateParkingSpot(ParkingSpotEnum parkingSpotEnum, int floorNumber);\n",
    "    <!-- end of ParkingSpot service -->\n",
    "\n",
    "    <!-- DisplayService -->\n",
    "    void ChangeMiniSpot(int change);\n",
    "    void ChangeCompactSpot(int change);\n",
    "    void ChangeLargeSpot(int change);   \n",
    "\n",
    "\n",
    "    DisplayBoard displayboard; // should singleton\n",
    "    void Change(ParkingSpotEnum parkingSpotEnum, int change);\n",
    "    <!-- End of DisplayBoardService -->\n",
    "\n",
    "    <!-- PaymentService -->\n",
    "    void AcceptCash(int amount);\n",
    "    void AcceptCreditCard(string cardNumber, int amount, int cvc);\n",
    "\n",
    "    <!-- Parking Service -->\n",
    "    ParkingLot parkingLot;//should singleton\n",
    "    ParkingTicket NearestFirstEntry(Vehicle);\n",
    "    ParkingTicket FarthestFirstEntry(Vehicle);//problemic as new strategy will inforce to change in parking service.\n",
    "\n",
    "    ParkingLot parkingLot;//should singleton\n",
    "    ParkingTicket Entry(Vehicle);\n",
    "    void Exist(ParkingTicket parkingTicket,Vehicle vehicle);\n",
    "    \n",
    "\n",
    "```\n",
    "- Create A enum: to remove repititive code"
   ]
  },
  {
   "cell_type": "markdown",
   "metadata": {},
   "source": []
  },
  {
   "cell_type": "markdown",
   "metadata": {},
   "source": [
    "|Entry|Exist|\n",
    "|:---|:---|\n",
    "|- stategy & Vechicle |- validation|\n",
    "|Issuse Parking ticket| payment|\n",
    "|Changing display board| change on display board|"
   ]
  },
  {
   "cell_type": "markdown",
   "metadata": {},
   "source": []
  }
 ],
 "metadata": {
  "kernelspec": {
   "display_name": "Python 3",
   "language": "python",
   "name": "python3"
  },
  "language_info": {
   "codemirror_mode": {
    "name": "ipython",
    "version": 3
   },
   "file_extension": ".py",
   "mimetype": "text/x-python",
   "name": "python",
   "nbconvert_exporter": "python",
   "pygments_lexer": "ipython3",
   "version": "3.11.3"
  }
 },
 "nbformat": 4,
 "nbformat_minor": 2
}
