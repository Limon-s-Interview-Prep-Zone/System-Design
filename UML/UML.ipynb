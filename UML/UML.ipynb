{
 "cells": [
  {
   "cell_type": "markdown",
   "metadata": {},
   "source": [
    "## Class Diagram:\n",
    "1. `Public (+)`: Accessible from anywhere.\n",
    "2. `Private (-)`: Accessible only within the class.\n",
    "3. `Protected (#)`: Accessible within the class and its subclasses.\n",
    "4. `Package (~)`: The attribute or method is accessible within the same package.\n",
    "5. `Static Members:` `+ getInstance(): Singleton`\n",
    "6. `Multiplicity`: Defines how many instances of one class relate to another.\n",
    "   - A User can place `0.. (zero or many)*` Orders.\n",
    "   - A Library contains `1.. (at least one)*` Books.\n",
    "\n",
    "![](../images/uml-conversion.svg)"
   ]
  },
  {
   "cell_type": "markdown",
   "metadata": {},
   "source": [
    "1. **Generalization**: Represents a \"is-a\" relationship between a parent (general) and child (specific) class.\n",
    "   - When you have multiple classes that share common attributes or methods.\n",
    "   - To promote reusability and reduce redundancy.\n",
    "2. **Inheritance**: A specific case of generalization where a child class inherits all the fields and methods of the parent class but can override or extend them.\n",
    "   - When you want to extend the functionality of an existing class.\n",
    "   - To create a hierarchical relationship between classes.\n",
    "3. **Use Interface**:\n",
    "   - When you want to define a set of methods that multiple classes must implement.\n",
    "   - To achieve polymorphism, allowing different classes to be treated as the same type\n",
    "4. **Association(`Teacher-1----*-Course`)**: Association represents a relationship between two classes where one class uses or interacts with another.\n",
    "   - To show that objects of one class are connected to objects of another class.\n",
    "   - To model the interactions between different objects\n",
    "5. **Uni-direction Association(`Customer-1----*-<*>Order`)**: Uni-directional association means that one class is aware of the other class, but the reverse is not true.\n",
    "   - When only one class needs to know about the relationship.\n",
    "   - To simplify the design when the relationship is not bidirectional.\n",
    "6. **Aggregation(`Library<>---Book`):** Aggregation is a special form of association that represents a whole-part relationship. The part can exist independently of the whole.\n",
    "   - To represent a whole-part relationship where the part can exist independently.\n",
    "   - To model relationships where the lifecycle of the part is not dependent on the whole.\n",
    "7. **Composition(`House<*>---Room`):** Composition is a stronger form of aggregation where the part cannot exist independently of the whole. If the whole is destroyed, the part is also destroyed.\n",
    "   - Whole: House\n",
    "   - Part: Room\n",
    "   - To represent a whole-part relationship where the part cannot exist independently.\n",
    "   - To model relationships where the lifecycle of the part is tightly coupled with the whole.\n",
    "\n",
    "---\n",
    "\n",
    "| **Concept**              | **Definition**                                                                 | **When to Use**                                                    |\n",
    "|---------------------------|-------------------------------------------------------------------------------|-------------------------------------------------------------------|\n",
    "| **Generalization**        | Parent-child relationship to share common properties and behavior.            | When classes share common attributes and behavior.               |\n",
    "| **Inheritance**           | A subclass inherits fields and methods from a parent class.                  | To extend functionality of existing classes.                     |\n",
    "| **Interface**             | Defines a contract of methods to be implemented by unrelated classes.         | When enforcing common behavior without shared inheritance.        |\n",
    "| **Association**           | A general relationship where one class interacts with another.               | For simple usage relationships without ownership.                 |\n",
    "| **Uni-Directional Assoc.**| A one-way association where one class knows about the other.                 | For interactions that don’t require two-way knowledge.            |\n",
    "| **Aggregation**           | A \"has-a\" relationship where objects can exist independently of the parent.  | For weak ownership where parts can live independently.            |\n",
    "| **Composition**           | A strong \"has-a\" relationship where parts cannot exist without the parent.   | When the parent completely owns the lifecycle of the child parts. |\n",
    "\n",
    "---"
   ]
  }
 ],
 "metadata": {
  "language_info": {
   "name": "python"
  }
 },
 "nbformat": 4,
 "nbformat_minor": 2
}
